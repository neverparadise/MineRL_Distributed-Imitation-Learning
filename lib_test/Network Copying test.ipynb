{
 "cells": [
  {
   "cell_type": "code",
   "execution_count": 1,
   "id": "premium-swaziland",
   "metadata": {
    "scrolled": true
   },
   "outputs": [
    {
     "name": "stderr",
     "output_type": "stream",
     "text": [
      "/home/kukjin/anaconda3/envs/minerl/lib/python3.7/site-packages/ray/autoscaler/_private/cli_logger.py:61: FutureWarning: Not all Ray CLI dependencies were found. In Ray 1.4+, the Ray CLI, autoscaler, and dashboard will only be usable via `pip install 'ray[default]'`. Please update your install command.\n",
      "  \"update your install command.\", FutureWarning)\n"
     ]
    }
   ],
   "source": [
    "import ray\n",
    "from model import *"
   ]
  },
  {
   "cell_type": "code",
   "execution_count": 2,
   "id": "necessary-trailer",
   "metadata": {},
   "outputs": [
    {
     "name": "stderr",
     "output_type": "stream",
     "text": [
      "2021-05-27 22:24:21,036\tINFO services.py:1269 -- View the Ray dashboard at \u001b[1m\u001b[32mhttp://127.0.0.1:8265\u001b[39m\u001b[22m\n"
     ]
    },
    {
     "data": {
      "text/plain": [
       "{'node_ip_address': '192.168.0.22',\n",
       " 'raylet_ip_address': '192.168.0.22',\n",
       " 'redis_address': '192.168.0.22:45395',\n",
       " 'object_store_address': '/tmp/ray/session_2021-05-27_22-24-20_040044_207850/sockets/plasma_store',\n",
       " 'raylet_socket_name': '/tmp/ray/session_2021-05-27_22-24-20_040044_207850/sockets/raylet',\n",
       " 'webui_url': '127.0.0.1:8265',\n",
       " 'session_dir': '/tmp/ray/session_2021-05-27_22-24-20_040044_207850',\n",
       " 'metrics_export_port': 43921,\n",
       " 'node_id': '369a08fec2f56e34e6140f3a8f50f597ea6cf1c778616eb0d0259b59'}"
      ]
     },
     "execution_count": 2,
     "metadata": {},
     "output_type": "execute_result"
    }
   ],
   "source": [
    "ray.init()"
   ]
  },
  {
   "cell_type": "code",
   "execution_count": 16,
   "id": "steady-illness",
   "metadata": {},
   "outputs": [],
   "source": [
    "@ray.remote(num_gpus=1)\n",
    "class Learner:\n",
    "    def __init__(self, network):\n",
    "        self.learner_network = DQN(19).cuda()\n",
    "        self.learner_network.load_state_dict(network.state_dict())\n",
    "        \n",
    "    def get_network(self):\n",
    "        return self.learner_network.cpu()\n"
   ]
  },
  {
   "cell_type": "code",
   "execution_count": 4,
   "id": "alien-modem",
   "metadata": {},
   "outputs": [],
   "source": [
    "a = []\n",
    "b = [1]"
   ]
  },
  {
   "cell_type": "code",
   "execution_count": 5,
   "id": "caring-brother",
   "metadata": {},
   "outputs": [],
   "source": [
    "for i, j in zip(a, b):\n",
    "    print(i, j)"
   ]
  },
  {
   "cell_type": "code",
   "execution_count": 28,
   "id": "regulation-matter",
   "metadata": {},
   "outputs": [],
   "source": [
    "@ray.remote\n",
    "class Actor:\n",
    "    def __init__(self, learner):\n",
    "        self.actor_network = DQN(19).cpu()\n",
    "        self.actor_target_network = DQN(19).cpu()\n",
    "        self.shared_network = ray.get(learner.get_network.remote())\n",
    "        self.actor_network.load_state_dict(self.shared_network.state_dict())\n",
    "        self.actor_target_network.load_state_dict(self.actor_network.state_dict())"
   ]
  },
  {
   "cell_type": "code",
   "execution_count": 18,
   "id": "interracial-powder",
   "metadata": {},
   "outputs": [],
   "source": [
    "import os"
   ]
  },
  {
   "cell_type": "code",
   "execution_count": 19,
   "id": "infectious-blood",
   "metadata": {},
   "outputs": [
    {
     "data": {
      "text/plain": [
       "<All keys matched successfully>"
      ]
     },
     "execution_count": 19,
     "metadata": {},
     "output_type": "execute_result"
    }
   ],
   "source": [
    "network = DQN(19)\n",
    "model_path = os.curdir +'/dqn_model/' + 'pre_trained4.pth'\n",
    "network.load_state_dict(torch.load(model_path, map_location='cuda:0'))"
   ]
  },
  {
   "cell_type": "code",
   "execution_count": 20,
   "id": "alone-restoration",
   "metadata": {},
   "outputs": [],
   "source": [
    "learner = Learner.remote(network)"
   ]
  },
  {
   "cell_type": "code",
   "execution_count": 29,
   "id": "civic-blues",
   "metadata": {},
   "outputs": [
    {
     "name": "stderr",
     "output_type": "stream",
     "text": [
      "2021-05-27 22:34:04,688\tWARNING worker.py:1115 -- The autoscaler failed with the following error:\n",
      "Terminated with signal 15\n",
      "  File \"/home/kukjin/anaconda3/envs/minerl/lib/python3.7/site-packages/ray/_private/monitor.py\", line 376, in <module>\n",
      "    monitor.run()\n",
      "  File \"/home/kukjin/anaconda3/envs/minerl/lib/python3.7/site-packages/ray/_private/monitor.py\", line 284, in run\n",
      "    self._run()\n",
      "  File \"/home/kukjin/anaconda3/envs/minerl/lib/python3.7/site-packages/ray/_private/monitor.py\", line 202, in _run\n",
      "    time.sleep(AUTOSCALER_UPDATE_INTERVAL_S)\n",
      "\n",
      "2021-05-27 22:34:04,755\tERROR import_thread.py:88 -- ImportThread: Connection closed by server.\n",
      "2021-05-27 22:34:04,756\tERROR worker.py:922 -- print_logs: Connection closed by server.\n",
      "2021-05-27 22:34:04,762\tERROR worker.py:1117 -- listen_error_messages_raylet: Connection closed by server.\n"
     ]
    }
   ],
   "source": [
    "actor = Actor.remote(learner)"
   ]
  },
  {
   "cell_type": "code",
   "execution_count": null,
   "id": "directed-translator",
   "metadata": {},
   "outputs": [],
   "source": []
  }
 ],
 "metadata": {
  "kernelspec": {
   "display_name": "Python 3",
   "language": "python",
   "name": "python3"
  },
  "language_info": {
   "codemirror_mode": {
    "name": "ipython",
    "version": 3
   },
   "file_extension": ".py",
   "mimetype": "text/x-python",
   "name": "python",
   "nbconvert_exporter": "python",
   "pygments_lexer": "ipython3",
   "version": "3.7.9"
  }
 },
 "nbformat": 4,
 "nbformat_minor": 5
}
