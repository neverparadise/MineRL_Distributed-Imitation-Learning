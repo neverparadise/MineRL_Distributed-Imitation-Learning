{
 "cells": [
  {
   "cell_type": "code",
   "execution_count": 4,
   "id": "unnecessary-aberdeen",
   "metadata": {},
   "outputs": [],
   "source": [
    "project_name = 'apex_dqfd_Actor%d' %(1)\n"
   ]
  },
  {
   "cell_type": "code",
   "execution_count": null,
   "id": "tribal-hobby",
   "metadata": {},
   "outputs": [],
   "source": []
  }
 ],
 "metadata": {
  "kernelspec": {
   "display_name": "Python 3",
   "language": "python",
   "name": "python3"
  },
  "language_info": {
   "codemirror_mode": {
    "name": "ipython",
    "version": 3
   },
   "file_extension": ".py",
   "mimetype": "text/x-python",
   "name": "python",
   "nbconvert_exporter": "python",
   "pygments_lexer": "ipython3",
   "version": "3.7.9"
  }
 },
 "nbformat": 4,
 "nbformat_minor": 5
}
